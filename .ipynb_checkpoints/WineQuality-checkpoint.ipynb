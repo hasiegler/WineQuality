{
 "cells": [
  {
   "cell_type": "markdown",
   "id": "b7818f7c",
   "metadata": {},
   "source": [
    "# Wine Quality Prediction Using Decision Tree and Random Forest Regression and Classifier"
   ]
  },
  {
   "cell_type": "code",
   "execution_count": 1,
   "id": "95c69736",
   "metadata": {},
   "outputs": [],
   "source": [
    "#import initial packages\n",
    "import pandas as pd\n",
    "import numpy as np\n",
    "import matplotlib.pyplot as plt"
   ]
  },
  {
   "cell_type": "code",
   "execution_count": 2,
   "id": "16018436",
   "metadata": {},
   "outputs": [],
   "source": [
    "#read in the datasets containing info on the red and white wines\n",
    "red_df = pd.read_csv('winequality-red.csv', sep=';')\n",
    "white_df = pd.read_csv('winequality-white.csv', sep=';')"
   ]
  },
  {
   "cell_type": "code",
   "execution_count": 3,
   "id": "5cc5b204",
   "metadata": {},
   "outputs": [],
   "source": [
    "#create a binary column called white in each of the datasets\n",
    "red_df['white'] = 0\n",
    "white_df['white'] = 1"
   ]
  },
  {
   "cell_type": "code",
   "execution_count": 4,
   "id": "e1326f30",
   "metadata": {},
   "outputs": [
    {
     "data": {
      "text/html": [
       "<div>\n",
       "<style scoped>\n",
       "    .dataframe tbody tr th:only-of-type {\n",
       "        vertical-align: middle;\n",
       "    }\n",
       "\n",
       "    .dataframe tbody tr th {\n",
       "        vertical-align: top;\n",
       "    }\n",
       "\n",
       "    .dataframe thead th {\n",
       "        text-align: right;\n",
       "    }\n",
       "</style>\n",
       "<table border=\"1\" class=\"dataframe\">\n",
       "  <thead>\n",
       "    <tr style=\"text-align: right;\">\n",
       "      <th></th>\n",
       "      <th>fixed acidity</th>\n",
       "      <th>volatile acidity</th>\n",
       "      <th>citric acid</th>\n",
       "      <th>residual sugar</th>\n",
       "      <th>chlorides</th>\n",
       "      <th>free sulfur dioxide</th>\n",
       "      <th>total sulfur dioxide</th>\n",
       "      <th>density</th>\n",
       "      <th>pH</th>\n",
       "      <th>sulphates</th>\n",
       "      <th>alcohol</th>\n",
       "      <th>quality</th>\n",
       "      <th>white</th>\n",
       "    </tr>\n",
       "  </thead>\n",
       "  <tbody>\n",
       "    <tr>\n",
       "      <th>0</th>\n",
       "      <td>7.4</td>\n",
       "      <td>0.70</td>\n",
       "      <td>0.00</td>\n",
       "      <td>1.9</td>\n",
       "      <td>0.076</td>\n",
       "      <td>11.0</td>\n",
       "      <td>34.0</td>\n",
       "      <td>0.9978</td>\n",
       "      <td>3.51</td>\n",
       "      <td>0.56</td>\n",
       "      <td>9.4</td>\n",
       "      <td>5</td>\n",
       "      <td>0</td>\n",
       "    </tr>\n",
       "    <tr>\n",
       "      <th>1</th>\n",
       "      <td>7.8</td>\n",
       "      <td>0.88</td>\n",
       "      <td>0.00</td>\n",
       "      <td>2.6</td>\n",
       "      <td>0.098</td>\n",
       "      <td>25.0</td>\n",
       "      <td>67.0</td>\n",
       "      <td>0.9968</td>\n",
       "      <td>3.20</td>\n",
       "      <td>0.68</td>\n",
       "      <td>9.8</td>\n",
       "      <td>5</td>\n",
       "      <td>0</td>\n",
       "    </tr>\n",
       "    <tr>\n",
       "      <th>2</th>\n",
       "      <td>7.8</td>\n",
       "      <td>0.76</td>\n",
       "      <td>0.04</td>\n",
       "      <td>2.3</td>\n",
       "      <td>0.092</td>\n",
       "      <td>15.0</td>\n",
       "      <td>54.0</td>\n",
       "      <td>0.9970</td>\n",
       "      <td>3.26</td>\n",
       "      <td>0.65</td>\n",
       "      <td>9.8</td>\n",
       "      <td>5</td>\n",
       "      <td>0</td>\n",
       "    </tr>\n",
       "    <tr>\n",
       "      <th>3</th>\n",
       "      <td>11.2</td>\n",
       "      <td>0.28</td>\n",
       "      <td>0.56</td>\n",
       "      <td>1.9</td>\n",
       "      <td>0.075</td>\n",
       "      <td>17.0</td>\n",
       "      <td>60.0</td>\n",
       "      <td>0.9980</td>\n",
       "      <td>3.16</td>\n",
       "      <td>0.58</td>\n",
       "      <td>9.8</td>\n",
       "      <td>6</td>\n",
       "      <td>0</td>\n",
       "    </tr>\n",
       "    <tr>\n",
       "      <th>4</th>\n",
       "      <td>7.4</td>\n",
       "      <td>0.70</td>\n",
       "      <td>0.00</td>\n",
       "      <td>1.9</td>\n",
       "      <td>0.076</td>\n",
       "      <td>11.0</td>\n",
       "      <td>34.0</td>\n",
       "      <td>0.9978</td>\n",
       "      <td>3.51</td>\n",
       "      <td>0.56</td>\n",
       "      <td>9.4</td>\n",
       "      <td>5</td>\n",
       "      <td>0</td>\n",
       "    </tr>\n",
       "  </tbody>\n",
       "</table>\n",
       "</div>"
      ],
      "text/plain": [
       "   fixed acidity  volatile acidity  citric acid  residual sugar  chlorides  \\\n",
       "0            7.4              0.70         0.00             1.9      0.076   \n",
       "1            7.8              0.88         0.00             2.6      0.098   \n",
       "2            7.8              0.76         0.04             2.3      0.092   \n",
       "3           11.2              0.28         0.56             1.9      0.075   \n",
       "4            7.4              0.70         0.00             1.9      0.076   \n",
       "\n",
       "   free sulfur dioxide  total sulfur dioxide  density    pH  sulphates  \\\n",
       "0                 11.0                  34.0   0.9978  3.51       0.56   \n",
       "1                 25.0                  67.0   0.9968  3.20       0.68   \n",
       "2                 15.0                  54.0   0.9970  3.26       0.65   \n",
       "3                 17.0                  60.0   0.9980  3.16       0.58   \n",
       "4                 11.0                  34.0   0.9978  3.51       0.56   \n",
       "\n",
       "   alcohol  quality  white  \n",
       "0      9.4        5      0  \n",
       "1      9.8        5      0  \n",
       "2      9.8        5      0  \n",
       "3      9.8        6      0  \n",
       "4      9.4        5      0  "
      ]
     },
     "execution_count": 4,
     "metadata": {},
     "output_type": "execute_result"
    }
   ],
   "source": [
    "#combine the red and white wine datasets\n",
    "df = pd.concat([red_df, white_df], ignore_index = True)\n",
    "df.head()"
   ]
  },
  {
   "cell_type": "code",
   "execution_count": 5,
   "id": "55cb881e",
   "metadata": {
    "scrolled": true
   },
   "outputs": [
    {
     "data": {
      "text/html": [
       "<div>\n",
       "<style scoped>\n",
       "    .dataframe tbody tr th:only-of-type {\n",
       "        vertical-align: middle;\n",
       "    }\n",
       "\n",
       "    .dataframe tbody tr th {\n",
       "        vertical-align: top;\n",
       "    }\n",
       "\n",
       "    .dataframe thead th {\n",
       "        text-align: right;\n",
       "    }\n",
       "</style>\n",
       "<table border=\"1\" class=\"dataframe\">\n",
       "  <thead>\n",
       "    <tr style=\"text-align: right;\">\n",
       "      <th></th>\n",
       "      <th>fixed acidity</th>\n",
       "      <th>volatile acidity</th>\n",
       "      <th>citric acid</th>\n",
       "      <th>residual sugar</th>\n",
       "      <th>chlorides</th>\n",
       "      <th>free sulfur dioxide</th>\n",
       "      <th>total sulfur dioxide</th>\n",
       "      <th>density</th>\n",
       "      <th>pH</th>\n",
       "      <th>sulphates</th>\n",
       "      <th>alcohol</th>\n",
       "      <th>quality</th>\n",
       "      <th>white</th>\n",
       "    </tr>\n",
       "  </thead>\n",
       "  <tbody>\n",
       "    <tr>\n",
       "      <th>count</th>\n",
       "      <td>6497.00</td>\n",
       "      <td>6497.00</td>\n",
       "      <td>6497.00</td>\n",
       "      <td>6497.00</td>\n",
       "      <td>6497.00</td>\n",
       "      <td>6497.00</td>\n",
       "      <td>6497.00</td>\n",
       "      <td>6497.00</td>\n",
       "      <td>6497.00</td>\n",
       "      <td>6497.00</td>\n",
       "      <td>6497.00</td>\n",
       "      <td>6497.00</td>\n",
       "      <td>6497.00</td>\n",
       "    </tr>\n",
       "    <tr>\n",
       "      <th>mean</th>\n",
       "      <td>7.22</td>\n",
       "      <td>0.34</td>\n",
       "      <td>0.32</td>\n",
       "      <td>5.44</td>\n",
       "      <td>0.06</td>\n",
       "      <td>30.53</td>\n",
       "      <td>115.74</td>\n",
       "      <td>0.99</td>\n",
       "      <td>3.22</td>\n",
       "      <td>0.53</td>\n",
       "      <td>10.49</td>\n",
       "      <td>5.82</td>\n",
       "      <td>0.75</td>\n",
       "    </tr>\n",
       "    <tr>\n",
       "      <th>std</th>\n",
       "      <td>1.30</td>\n",
       "      <td>0.16</td>\n",
       "      <td>0.15</td>\n",
       "      <td>4.76</td>\n",
       "      <td>0.04</td>\n",
       "      <td>17.75</td>\n",
       "      <td>56.52</td>\n",
       "      <td>0.00</td>\n",
       "      <td>0.16</td>\n",
       "      <td>0.15</td>\n",
       "      <td>1.19</td>\n",
       "      <td>0.87</td>\n",
       "      <td>0.43</td>\n",
       "    </tr>\n",
       "    <tr>\n",
       "      <th>min</th>\n",
       "      <td>3.80</td>\n",
       "      <td>0.08</td>\n",
       "      <td>0.00</td>\n",
       "      <td>0.60</td>\n",
       "      <td>0.01</td>\n",
       "      <td>1.00</td>\n",
       "      <td>6.00</td>\n",
       "      <td>0.99</td>\n",
       "      <td>2.72</td>\n",
       "      <td>0.22</td>\n",
       "      <td>8.00</td>\n",
       "      <td>3.00</td>\n",
       "      <td>0.00</td>\n",
       "    </tr>\n",
       "    <tr>\n",
       "      <th>25%</th>\n",
       "      <td>6.40</td>\n",
       "      <td>0.23</td>\n",
       "      <td>0.25</td>\n",
       "      <td>1.80</td>\n",
       "      <td>0.04</td>\n",
       "      <td>17.00</td>\n",
       "      <td>77.00</td>\n",
       "      <td>0.99</td>\n",
       "      <td>3.11</td>\n",
       "      <td>0.43</td>\n",
       "      <td>9.50</td>\n",
       "      <td>5.00</td>\n",
       "      <td>1.00</td>\n",
       "    </tr>\n",
       "    <tr>\n",
       "      <th>50%</th>\n",
       "      <td>7.00</td>\n",
       "      <td>0.29</td>\n",
       "      <td>0.31</td>\n",
       "      <td>3.00</td>\n",
       "      <td>0.05</td>\n",
       "      <td>29.00</td>\n",
       "      <td>118.00</td>\n",
       "      <td>0.99</td>\n",
       "      <td>3.21</td>\n",
       "      <td>0.51</td>\n",
       "      <td>10.30</td>\n",
       "      <td>6.00</td>\n",
       "      <td>1.00</td>\n",
       "    </tr>\n",
       "    <tr>\n",
       "      <th>75%</th>\n",
       "      <td>7.70</td>\n",
       "      <td>0.40</td>\n",
       "      <td>0.39</td>\n",
       "      <td>8.10</td>\n",
       "      <td>0.06</td>\n",
       "      <td>41.00</td>\n",
       "      <td>156.00</td>\n",
       "      <td>1.00</td>\n",
       "      <td>3.32</td>\n",
       "      <td>0.60</td>\n",
       "      <td>11.30</td>\n",
       "      <td>6.00</td>\n",
       "      <td>1.00</td>\n",
       "    </tr>\n",
       "    <tr>\n",
       "      <th>max</th>\n",
       "      <td>15.90</td>\n",
       "      <td>1.58</td>\n",
       "      <td>1.66</td>\n",
       "      <td>65.80</td>\n",
       "      <td>0.61</td>\n",
       "      <td>289.00</td>\n",
       "      <td>440.00</td>\n",
       "      <td>1.04</td>\n",
       "      <td>4.01</td>\n",
       "      <td>2.00</td>\n",
       "      <td>14.90</td>\n",
       "      <td>9.00</td>\n",
       "      <td>1.00</td>\n",
       "    </tr>\n",
       "  </tbody>\n",
       "</table>\n",
       "</div>"
      ],
      "text/plain": [
       "       fixed acidity  volatile acidity  citric acid  residual sugar  \\\n",
       "count        6497.00           6497.00      6497.00         6497.00   \n",
       "mean            7.22              0.34         0.32            5.44   \n",
       "std             1.30              0.16         0.15            4.76   \n",
       "min             3.80              0.08         0.00            0.60   \n",
       "25%             6.40              0.23         0.25            1.80   \n",
       "50%             7.00              0.29         0.31            3.00   \n",
       "75%             7.70              0.40         0.39            8.10   \n",
       "max            15.90              1.58         1.66           65.80   \n",
       "\n",
       "       chlorides  free sulfur dioxide  total sulfur dioxide  density       pH  \\\n",
       "count    6497.00              6497.00               6497.00  6497.00  6497.00   \n",
       "mean        0.06                30.53                115.74     0.99     3.22   \n",
       "std         0.04                17.75                 56.52     0.00     0.16   \n",
       "min         0.01                 1.00                  6.00     0.99     2.72   \n",
       "25%         0.04                17.00                 77.00     0.99     3.11   \n",
       "50%         0.05                29.00                118.00     0.99     3.21   \n",
       "75%         0.06                41.00                156.00     1.00     3.32   \n",
       "max         0.61               289.00                440.00     1.04     4.01   \n",
       "\n",
       "       sulphates  alcohol  quality    white  \n",
       "count    6497.00  6497.00  6497.00  6497.00  \n",
       "mean        0.53    10.49     5.82     0.75  \n",
       "std         0.15     1.19     0.87     0.43  \n",
       "min         0.22     8.00     3.00     0.00  \n",
       "25%         0.43     9.50     5.00     1.00  \n",
       "50%         0.51    10.30     6.00     1.00  \n",
       "75%         0.60    11.30     6.00     1.00  \n",
       "max         2.00    14.90     9.00     1.00  "
      ]
     },
     "execution_count": 5,
     "metadata": {},
     "output_type": "execute_result"
    }
   ],
   "source": [
    "#summary statistics of all of the features\n",
    "round(df.describe(), 2)"
   ]
  },
  {
   "cell_type": "code",
   "execution_count": 6,
   "id": "04b4c945",
   "metadata": {
    "scrolled": true
   },
   "outputs": [
    {
     "data": {
      "image/png": "[encoded data removed]",
      "text/plain": [
       "<Figure size 1080x720 with 16 Axes>"
      ]
     },
     "metadata": {
      "needs_background": "light"
     },
     "output_type": "display_data"
    }
   ],
   "source": [
    "#histograms of all of the features\n",
    "df.hist(bins=50, figsize=(15,10))\n",
    "plt.show()"
   ]
  },
  {
   "cell_type": "markdown",
   "id": "323543a8",
   "metadata": {},
   "source": [
    "We are interested in predicting the quality of a wine, and we can see that quality takes values from 3 to 9, with values of 5, 6, and 7 being the most common qualities."
   ]
  },
  {
   "cell_type": "markdown",
   "id": "50943891",
   "metadata": {},
   "source": [
    "## Data Preparation"
   ]
  },
  {
   "cell_type": "markdown",
   "id": "4435d3d4",
   "metadata": {},
   "source": [
    "Let us assume that we have received information that alcohol content is a very important predictor of the quality of the wine. We want to make sure that the test set is representative of various categories of alcohol content in the whole dataset. To evaluate this, we will create an alcohol content category attribute.\n",
    "\n",
    "The following code uses the pd.cut() function to create an alcohol content category attribute with 5 categories."
   ]
  },
  {
   "cell_type": "code",
   "execution_count": 7,
   "id": "17bd3598",
   "metadata": {},
   "outputs": [],
   "source": [
    "#create a new alcohol category column\n",
    "df[\"alcohol_cat\"] = pd.cut(df[\"alcohol\"],\n",
    "                           #these are where the alcohol percentages will be divided into different categories\n",
    "                          bins=[0., 9, 10, 11, 12, np.inf],\n",
    "                          #labels for the categories\n",
    "                          labels=[1, 2, 3, 4, 5])\n",
    "\n",
    "#change the column to an integer column type\n",
    "df[\"alcohol_cat\"] = df[\"alcohol_cat\"].astype('int64')"
   ]
  },
  {
   "cell_type": "code",
   "execution_count": 8,
   "id": "4e894e8c",
   "metadata": {},
   "outputs": [
    {
     "data": {
      "image/png": "[encoded data removed]",
      "text/plain": [
       "<Figure size 432x288 with 1 Axes>"
      ]
     },
     "metadata": {
      "needs_background": "light"
     },
     "output_type": "display_data"
    }
   ],
   "source": [
    "df[\"alcohol_cat\"].hist()\n",
    "plt.xlabel(\"Alcohol Percentage Category\")\n",
    "plt.ylabel(\"Count\")\n",
    "plt.show()"
   ]
  },
  {
   "cell_type": "markdown",
   "id": "53a62219",
   "metadata": {},
   "source": [
    "Now we will create training and testing datasets from our full dataset to train and evaluate the performance of the model we will create to predict the quality of wine.\n",
    "\n",
    "Since alcohol content is an important attribute for predicting the quality of wine, we want to make sure that the testing set is representative of the various categories of alcohol content in the whole dataset. This can be done using the StratifiedShuffleSplit class."
   ]
  },
  {
   "cell_type": "code",
   "execution_count": 9,
   "id": "22f89c17",
   "metadata": {},
   "outputs": [],
   "source": [
    "from sklearn.model_selection import StratifiedShuffleSplit\n",
    "\n",
    "#split the data into testing and training datasets where the testing set has similar proportions of observations \n",
    "#in each of the alcohol categories to the whole dataset\n",
    "split = StratifiedShuffleSplit(n_splits=1, test_size=0.2, random_state=682)\n",
    "for train_index, test_index in split.split(df, df[\"alcohol_cat\"]):\n",
    "    strat_train_set = df.loc[train_index]\n",
    "    strat_test_set = df.loc[test_index]"
   ]
  },
  {
   "cell_type": "code",
   "execution_count": 10,
   "id": "b618fa1e",
   "metadata": {
    "scrolled": true
   },
   "outputs": [
    {
     "data": {
      "text/plain": [
       "2    0.353077\n",
       "3    0.260769\n",
       "4    0.172308\n",
       "5    0.130769\n",
       "1    0.083077\n",
       "Name: alcohol_cat, dtype: float64"
      ]
     },
     "execution_count": 10,
     "metadata": {},
     "output_type": "execute_result"
    }
   ],
   "source": [
    "#proportion of wines in the testing set in each of the alcohol content categories\n",
    "strat_test_set[\"alcohol_cat\"].value_counts() / len(strat_test_set)"
   ]
  },
  {
   "cell_type": "code",
   "execution_count": 11,
   "id": "eea346b9",
   "metadata": {},
   "outputs": [
    {
     "data": {
      "text/plain": [
       "2    0.352932\n",
       "3    0.261044\n",
       "4    0.171926\n",
       "5    0.131137\n",
       "1    0.082961\n",
       "Name: alcohol_cat, dtype: float64"
      ]
     },
     "execution_count": 11,
     "metadata": {},
     "output_type": "execute_result"
    }
   ],
   "source": [
    "#proportion of wines in the full dataset in each of the alcohol content categories\n",
    "df[\"alcohol_cat\"].value_counts() / len(df)"
   ]
  },
  {
   "cell_type": "markdown",
   "id": "844405d3",
   "metadata": {},
   "source": [
    "As we can see, the proportion of the wines in each of the alcohol content categories is the same in the testing set and the full dataset.\n",
    "\n",
    "To demonstrate why we did not simply randomly split the data into testing and training sets, we will show how a testing set chosen randomly will have a different proportion of number of wines in each of the categories as the full dataset."
   ]
  },
  {
   "cell_type": "code",
   "execution_count": 12,
   "id": "8f9174c3",
   "metadata": {},
   "outputs": [],
   "source": [
    "#drop the alcohol category attribute in the testing and training sets\n",
    "strat_train_set.drop(\"alcohol_cat\", axis=1, inplace=True)\n",
    "strat_test_set.drop(\"alcohol_cat\", axis=1, inplace=True)"
   ]
  },
  {
   "cell_type": "code",
   "execution_count": 13,
   "id": "ea7af5c1",
   "metadata": {},
   "outputs": [],
   "source": [
    "#copy the training set to a dataset called df\n",
    "df = strat_train_set.copy()"
   ]
  },
  {
   "cell_type": "markdown",
   "id": "2743580a",
   "metadata": {},
   "source": [
    "## Data Analysis"
   ]
  },
  {
   "cell_type": "code",
   "execution_count": 14,
   "id": "e6eb36f4",
   "metadata": {
    "scrolled": true
   },
   "outputs": [
    {
     "data": {
      "text/plain": [
       "quality                 1.000000\n",
       "alcohol                 0.441758\n",
       "white                   0.122223\n",
       "citric acid             0.079533\n",
       "free sulfur dioxide     0.056166\n",
       "sulphates               0.036773\n",
       "pH                      0.023978\n",
       "total sulfur dioxide   -0.036168\n",
       "residual sugar         -0.040394\n",
       "fixed acidity          -0.078009\n",
       "chlorides              -0.208986\n",
       "volatile acidity       -0.271801\n",
       "density                -0.303904\n",
       "Name: quality, dtype: float64"
      ]
     },
     "execution_count": 14,
     "metadata": {},
     "output_type": "execute_result"
    }
   ],
   "source": [
    "#find the attributes most highly correlated with quality\n",
    "corr_matrix = df.corr()\n",
    "corr_matrix[\"quality\"].sort_values(ascending=False)"
   ]
  },
  {
   "cell_type": "markdown",
   "id": "a6971484",
   "metadata": {},
   "source": [
    "Alcohol content, density, and volatile acidity are the most correlated attributes with quality."
   ]
  },
  {
   "cell_type": "code",
   "execution_count": 15,
   "id": "10735936",
   "metadata": {
    "scrolled": true
   },
   "outputs": [
    {
     "data": {
      "image/png": "[encoded data removed]",
      "text/plain": [
       "<Figure size 576x576 with 36 Axes>"
      ]
     },
     "metadata": {
      "needs_background": "light"
     },
     "output_type": "display_data"
    }
   ],
   "source": [
    "from pandas.plotting import scatter_matrix\n",
    "\n",
    "#choose the most highly correlated attributes\n",
    "attributes = [\"quality\", \"alcohol\", \"density\", \"white\", \"volatile acidity\", \"chlorides\"]\n",
    "scatter_matrix(df[attributes], figsize=(8,8))\n",
    "plt.show()"
   ]
  },
  {
   "cell_type": "markdown",
   "id": "96313386",
   "metadata": {},
   "source": [
    "Based on the scatter matrix, it looks like alcohol and density are the most promising attributes to predict the quality of wine."
   ]
  },
  {
   "cell_type": "code",
   "execution_count": 16,
   "id": "07c24c07",
   "metadata": {},
   "outputs": [
    {
     "data": {
      "image/png": "[encoded data removed]",
      "text/plain": [
       "<Figure size 432x288 with 1 Axes>"
      ]
     },
     "metadata": {
      "needs_background": "light"
     },
     "output_type": "display_data"
    }
   ],
   "source": [
    "df.plot(kind=\"scatter\", x=\"alcohol\", y=\"quality\", alpha=0.1)\n",
    "plt.xlabel(\"Alcohol Percentage\")\n",
    "plt.show()"
   ]
  },
  {
   "cell_type": "code",
   "execution_count": 17,
   "id": "61763515",
   "metadata": {},
   "outputs": [
    {
     "data": {
      "image/png": "[encoded data removed]",
      "text/plain": [
       "<Figure size 432x288 with 1 Axes>"
      ]
     },
     "metadata": {
      "needs_background": "light"
     },
     "output_type": "display_data"
    }
   ],
   "source": [
    "df.plot(kind=\"scatter\", x=\"density\", y=\"quality\", alpha=0.03)\n",
    "plt.show()"
   ]
  },
  {
   "cell_type": "markdown",
   "id": "67b373b9",
   "metadata": {},
   "source": [
    "It looks like there is an outlier for the density attribute, with a value of close to 1.04, so we will remove this observation."
   ]
  },
  {
   "cell_type": "code",
   "execution_count": 18,
   "id": "4c7c9611",
   "metadata": {},
   "outputs": [],
   "source": [
    "#drop the observation\n",
    "df = df[df.density < 1.03]"
   ]
  },
  {
   "cell_type": "markdown",
   "id": "9ec16c58",
   "metadata": {},
   "source": [
    "Here is the same scatterplot after removing the outlier."
   ]
  },
  {
   "cell_type": "code",
   "execution_count": 19,
   "id": "f1ca7e08",
   "metadata": {
    "scrolled": false
   },
   "outputs": [
    {
     "data": {
      "image/png": "[encoded data removed]",
      "text/plain": [
       "<Figure size 432x288 with 1 Axes>"
      ]
     },
     "metadata": {
      "needs_background": "light"
     },
     "output_type": "display_data"
    }
   ],
   "source": [
    "df.plot(kind=\"scatter\", x=\"density\", y=\"quality\", alpha=0.03)\n",
    "plt.show()"
   ]
  },
  {
   "cell_type": "markdown",
   "id": "c59f12ac",
   "metadata": {},
   "source": [
    "## More Data Preparation"
   ]
  },
  {
   "cell_type": "code",
   "execution_count": 20,
   "id": "be5d253b",
   "metadata": {},
   "outputs": [],
   "source": [
    "#save the response variable (quality) from the training set to quality\n",
    "quality = strat_train_set[['quality']]\n",
    "\n",
    "#drop the quality column from the training set\n",
    "df = strat_train_set.drop(\"quality\", axis=1)"
   ]
  },
  {
   "cell_type": "markdown",
   "id": "7ddc83e0",
   "metadata": {},
   "source": [
    "We will scale the data using standard scaling, which is a type of normalization that scales the values of an attribute to have a mean of 0 and unit variance. This is done by subtracting the mean of the attribute from each value and then dividing the result by the standard deviation of the attribute."
   ]
  },
  {
   "cell_type": "code",
   "execution_count": 21,
   "id": "9dcc4480",
   "metadata": {},
   "outputs": [
    {
     "data": {
      "text/plain": [
       "array([[-0.77566935, -0.06617935, -1.21949411, ..., -0.3467282 ,\n",
       "        -0.91681064,  0.57579496],\n",
       "       [ 0.29275196,  0.29735531, -0.05814063, ...,  0.80027781,\n",
       "        -0.66405534, -1.73672932],\n",
       "       [-0.39409031, -0.61148134,  0.01017428, ..., -1.22385044,\n",
       "         1.77924589,  0.57579496],\n",
       "       ...,\n",
       "       [ 0.21643615, -0.9144269 ,  1.17152776, ..., -0.61661197,\n",
       "        -0.4955518 ,  0.57579496],\n",
       "       [-0.16514289, -1.33855067,  0.01017428, ..., -1.02143762,\n",
       "        -1.08531417,  0.57579496],\n",
       "       [-1.61514324, -0.49030312,  0.1468041 , ..., -0.81902479,\n",
       "        -1.08531417,  0.57579496]])"
      ]
     },
     "execution_count": 21,
     "metadata": {},
     "output_type": "execute_result"
    }
   ],
   "source": [
    "from sklearn.preprocessing import StandardScaler\n",
    "\n",
    "scaler = StandardScaler()\n",
    "\n",
    "#scale the data\n",
    "df_scaled = scaler.fit_transform(df)\n",
    "df_scaled"
   ]
  },
  {
   "cell_type": "code",
   "execution_count": 22,
   "id": "bf63a97f",
   "metadata": {},
   "outputs": [
    {
     "data": {
      "text/plain": [
       "array([[-0.92663603],\n",
       "       [-0.92663603],\n",
       "       [ 0.21318112],\n",
       "       ...,\n",
       "       [-0.92663603],\n",
       "       [ 0.21318112],\n",
       "       [ 0.21318112]])"
      ]
     },
     "execution_count": 22,
     "metadata": {},
     "output_type": "execute_result"
    }
   ],
   "source": [
    "quality_scaled = scaler.fit_transform(quality)\n",
    "quality_scaled"
   ]
  },
  {
   "cell_type": "markdown",
   "id": "1be1aba7",
   "metadata": {},
   "source": [
    "Decision trees and random forests are not sensitive to the scale of the attributes, so it is not necessary to scale the data. However, scaling the data can sometimes be beneficial to help improve performance of the model, so we will try using the scaled and unscaled data in our models to see if one of them is better than the other in terms of the performance of the model."
   ]
  },
  {
   "cell_type": "code",
   "execution_count": 23,
   "id": "0e56b648",
   "metadata": {},
   "outputs": [],
   "source": [
    "#drop the quality column and save all the covariates to X_test\n",
    "X_test = strat_test_set.drop(\"quality\", axis=1)\n",
    "\n",
    "#save the response variable (quality) from the testing set to y_test\n",
    "y_test = strat_test_set[[\"quality\"]].copy()"
   ]
  },
  {
   "cell_type": "code",
   "execution_count": 24,
   "id": "5714171a",
   "metadata": {},
   "outputs": [],
   "source": [
    "#scale the testing sets\n",
    "X_test_scaled = scaler.fit_transform(X_test)\n",
    "y_test_scaled = scaler.fit_transform(y_test)"
   ]
  },
  {
   "cell_type": "markdown",
   "id": "94bbf112",
   "metadata": {},
   "source": [
    "## Linear Regression"
   ]
  },
  {
   "cell_type": "markdown",
   "id": "3a584f83",
   "metadata": {},
   "source": [
    "We will first run a linear regression model, so that we can compare the results of our other models with the accuracy of a linear regression model."
   ]
  },
  {
   "cell_type": "code",
   "execution_count": 25,
   "id": "d34d3189",
   "metadata": {
    "scrolled": true
   },
   "outputs": [
    {
     "data": {
      "text/plain": [
       "LinearRegression()"
      ]
     },
     "execution_count": 25,
     "metadata": {},
     "output_type": "execute_result"
    }
   ],
   "source": [
    "from sklearn.linear_model import LinearRegression\n",
    "\n",
    "lin_reg = LinearRegression()\n",
    "\n",
    "#fit a linear regression to the non-scaled training set \n",
    "lin_reg.fit(df, quality)"
   ]
  },
  {
   "cell_type": "code",
   "execution_count": 26,
   "id": "9fe90ac7",
   "metadata": {},
   "outputs": [],
   "source": [
    "#predict the qualities for the training data\n",
    "y_train_pred = lin_reg.predict(df)\n",
    "\n",
    "#predict the qualities for the training data\n",
    "y_test_pred = lin_reg.predict(X_test)"
   ]
  },
  {
   "cell_type": "code",
   "execution_count": 27,
   "id": "2bdda710",
   "metadata": {},
   "outputs": [
    {
     "name": "stdout",
     "output_type": "stream",
     "text": [
      "R^2 for Training Dataset:\n",
      "0.2957\n",
      "R^2 for Testing Dataset:\n",
      "0.2971\n"
     ]
    }
   ],
   "source": [
    "from sklearn.metrics import r2_score\n",
    "\n",
    "print(\"R^2 for Training Dataset:\")\n",
    "#calculate the R-squared value\n",
    "print(round(r2_score(quality, y_train_pred), 4))\n",
    "\n",
    "lin_reg_R2 = round(r2_score(y_test, y_test_pred), 4)\n",
    "print(\"R^2 for Testing Dataset:\")\n",
    "#calculate the R-squared value\n",
    "print(lin_reg_R2)"
   ]
  },
  {
   "cell_type": "markdown",
   "id": "2ddf3aec",
   "metadata": {},
   "source": [
    "Based on the linear regression model, R-squared value for the training set is 0.2957. The model that was created using the training set was used to predict values for the testing set, and we see an R-squared value of 0.2971, which happens to be even larger than the training R-squared value."
   ]
  },
  {
   "cell_type": "markdown",
   "id": "e936f150",
   "metadata": {},
   "source": [
    "Another common regression machine learning metric is the Mean Absolute Percentage Error (MAPE). This is the mean of all absolute percentage errors between the predicted and actual values. Lower MAPE percentages are better."
   ]
  },
  {
   "cell_type": "code",
   "execution_count": 28,
   "id": "ea616956",
   "metadata": {},
   "outputs": [
    {
     "name": "stdout",
     "output_type": "stream",
     "text": [
      "MAPE for Training Dataset:\n",
      "10.2 %\n",
      "MAPE for Testing Dataset:\n",
      "9.76 %\n"
     ]
    }
   ],
   "source": [
    "from sklearn.metrics import mean_absolute_percentage_error\n",
    "\n",
    "print(\"MAPE for Training Dataset:\")\n",
    "#calculate the MAPE for training data\n",
    "print(100 * round(mean_absolute_percentage_error(quality, y_train_pred), 4),\"%\")\n",
    "\n",
    "print(\"MAPE for Testing Dataset:\")\n",
    "#calculate the MAPE for testing data\n",
    "lin_reg_MAPE = 100 * round(mean_absolute_percentage_error(y_test, y_test_pred), 4)\n",
    "print(lin_reg_MAPE, \"%\")"
   ]
  },
  {
   "cell_type": "markdown",
   "id": "f429437d",
   "metadata": {},
   "source": [
    "MAPE values of 10% or less are considered very good."
   ]
  },
  {
   "cell_type": "markdown",
   "id": "7e9a321f",
   "metadata": {},
   "source": [
    "# Decision Tree Regression"
   ]
  },
  {
   "cell_type": "markdown",
   "id": "cf41d37d",
   "metadata": {},
   "source": [
    "We will now run the first Machine Learning model. Decision Tree Regression is a supervised machine learning algorithm used for regression problems. It builds a tree-like model based on the covariates to predict a continuous target variable by recursively splitting the data into subsets based on the feature values."
   ]
  },
  {
   "cell_type": "markdown",
   "id": "83169cf4",
   "metadata": {},
   "source": [
    "To choose the optimal hyperparameters for the Decision Tree Regression, we will use a Grid Search. Grid Search is a method for hyperparameter tuning that involves exhaustively searching over a specified hyperparameter space to find the combination of hyperparameters that result in the best model performance, as evaluated using a specified scoring metric.\n",
    "\n",
    "We will use a randomized grid search, which tries out a fixed number of parameter settings to reduce the time it takes to search of the entire grid of hyperparameters."
   ]
  },
  {
   "cell_type": "code",
   "execution_count": 29,
   "id": "e19bdf3d",
   "metadata": {},
   "outputs": [],
   "source": [
    "from sklearn.tree import DecisionTreeRegressor\n",
    "\n",
    "#create the decision tree regressor\n",
    "tree_reg = DecisionTreeRegressor(random_state = 50)"
   ]
  },
  {
   "cell_type": "code",
   "execution_count": 30,
   "id": "6e891d7f",
   "metadata": {},
   "outputs": [],
   "source": [
    "from sklearn.model_selection import RandomizedSearchCV\n",
    "\n",
    "#maximum number of levels in tree\n",
    "max_depth = list(range(10, 500))\n",
    "\n",
    "#minimum number of samples required to split a node\n",
    "min_samples_split = list(range(2, 20))\n",
    "\n",
    "#minimum number of samples required at each leaf node\n",
    "min_samples_leaf = list(range(1, 15))\n",
    "\n",
    "#number of features to consider at every split\n",
    "max_features = ['auto', 'sqrt']\n",
    "\n",
    "#create the grid of parameters\n",
    "param_grid = [\n",
    "    {'max_features': max_features,\n",
    "     'max_depth': max_depth,\n",
    "     'min_samples_split': min_samples_split,\n",
    "     'min_samples_leaf': min_samples_leaf}\n",
    "]"
   ]
  },
  {
   "cell_type": "code",
   "execution_count": 31,
   "id": "463620cc",
   "metadata": {
    "scrolled": true
   },
   "outputs": [
    {
     "data": {
      "text/plain": [
       "RandomizedSearchCV(cv=5, estimator=DecisionTreeRegressor(random_state=50),\n",
       "                   n_iter=30,\n",
       "                   param_distributions=[{'max_depth': [10, 11, 12, 13, 14, 15,\n",
       "                                                       16, 17, 18, 19, 20, 21,\n",
       "                                                       22, 23, 24, 25, 26, 27,\n",
       "                                                       28, 29, 30, 31, 32, 33,\n",
       "                                                       34, 35, 36, 37, 38, 39, ...],\n",
       "                                         'max_features': ['auto', 'sqrt'],\n",
       "                                         'min_samples_leaf': [1, 2, 3, 4, 5, 6,\n",
       "                                                              7, 8, 9, 10, 11,\n",
       "                                                              12, 13, 14],\n",
       "                                         'min_samples_split': [2, 3, 4, 5, 6, 7,\n",
       "                                                               8, 9, 10, 11, 12,\n",
       "                                                               13, 14, 15, 16,\n",
       "                                                               17, 18, 19]}],\n",
       "                   random_state=52, return_train_score=True,\n",
       "                   scoring='neg_mean_squared_error')"
      ]
     },
     "execution_count": 31,
     "metadata": {},
     "output_type": "execute_result"
    }
   ],
   "source": [
    "grid_search = RandomizedSearchCV(tree_reg, \n",
    "                                 param_grid, \n",
    "                                 cv=5,\n",
    "                                 scoring='neg_mean_squared_error',\n",
    "                                 return_train_score=True,\n",
    "                                 random_state = 52,\n",
    "                                 n_iter = 30)\n",
    "\n",
    "#search over the grid of parameters to find the optimal set of hyperparameters for the training dataset\n",
    "grid_search.fit(df, quality)"
   ]
  },
  {
   "cell_type": "code",
   "execution_count": 32,
   "id": "174736c9",
   "metadata": {
    "scrolled": true
   },
   "outputs": [
    {
     "data": {
      "text/plain": [
       "DecisionTreeRegressor(max_depth=486, max_features='auto', min_samples_leaf=11,\n",
       "                      min_samples_split=17, random_state=50)"
      ]
     },
     "execution_count": 32,
     "metadata": {},
     "output_type": "execute_result"
    }
   ],
   "source": [
    "#create a decision tree regressor with the optimal hyperparameters\n",
    "decision_tree_model = grid_search.best_estimator_\n",
    "decision_tree_model"
   ]
  },
  {
   "cell_type": "code",
   "execution_count": 33,
   "id": "4c0308ef",
   "metadata": {},
   "outputs": [],
   "source": [
    "#predict quality values for the training and testing datasets\n",
    "y_train_pred = decision_tree_model.predict(df)\n",
    "y_test_pred = decision_tree_model.predict(X_test)"
   ]
  },
  {
   "cell_type": "code",
   "execution_count": 34,
   "id": "76d275b0",
   "metadata": {},
   "outputs": [
    {
     "name": "stdout",
     "output_type": "stream",
     "text": [
      "R^2 for Training Dataset:\n",
      "0.61\n",
      "R^2 for Testing Dataset:\n",
      "0.3069\n"
     ]
    }
   ],
   "source": [
    "print(\"R^2 for Training Dataset:\")\n",
    "#calculate the R-squared value\n",
    "print(round(r2_score(quality, y_train_pred), 4))\n",
    "\n",
    "print(\"R^2 for Testing Dataset:\")\n",
    "#calculate the R-squared value\n",
    "decision_tree_R2_1 = round(r2_score(y_test, y_test_pred), 4)\n",
    "print(decision_tree_R2_1)"
   ]
  },
  {
   "cell_type": "code",
   "execution_count": 35,
   "id": "16c5ecf4",
   "metadata": {},
   "outputs": [
    {
     "name": "stdout",
     "output_type": "stream",
     "text": [
      "MAPE for Training Dataset:\n",
      "7.3999999999999995 %\n",
      "MAPE for Testing Dataset:\n",
      "9.46 %\n"
     ]
    }
   ],
   "source": [
    "print(\"MAPE for Training Dataset:\")\n",
    "#calculate the MAPE for training data\n",
    "print(100 * round(mean_absolute_percentage_error(quality, y_train_pred), 4),\"%\")\n",
    "\n",
    "decision_tree_MAPE_1 = 100 * round(mean_absolute_percentage_error(y_test, y_test_pred), 4)\n",
    "print(\"MAPE for Testing Dataset:\")\n",
    "#calculate the MAPE for testing data\n",
    "print(decision_tree_MAPE_1, \"%\")"
   ]
  },
  {
   "cell_type": "markdown",
   "id": "04d2327e",
   "metadata": {},
   "source": [
    "The R-squared value for the testing data increased from the linear regression R-squared (from 0.2971 to 0.3069). Also, the MAPE slightly decreased. \n",
    "\n",
    "However, we can see that there is a large difference in the R-squared scores between the training and testing datasets. Since the R-squared score is much higher for the training data, this suggests that our model is overfit to the training data. \n",
    "\n",
    "The model is currently too specialized and is performing poorly on the new, unseen data."
   ]
  },
  {
   "cell_type": "markdown",
   "id": "3436bcab",
   "metadata": {},
   "source": [
    "## New Parameters for Decision Tree"
   ]
  },
  {
   "cell_type": "markdown",
   "id": "05d54bc4",
   "metadata": {},
   "source": [
    "We will change the parameters in the grid so that that the model will not be overfit to the training data."
   ]
  },
  {
   "cell_type": "code",
   "execution_count": 36,
   "id": "b04d796b",
   "metadata": {},
   "outputs": [],
   "source": [
    "from sklearn.model_selection import RandomizedSearchCV\n",
    "\n",
    "max_features = ['auto', 'sqrt']\n",
    "\n",
    "#decrease the number of levels in the tree\n",
    "max_depth = list(range(15, 25))\n",
    "\n",
    "#increase the minimum number of samples required to split a node\n",
    "min_samples_split = list(range(25, 35))\n",
    "\n",
    "#increase the minimum number of samples required at each leaf node\n",
    "min_samples_leaf = list(range(15, 30))\n",
    "\n",
    "#create the new grid\n",
    "param_grid = [\n",
    "    {'max_features': max_features,\n",
    "     'max_depth': max_depth,\n",
    "     'min_samples_split': min_samples_split,\n",
    "     'min_samples_leaf': min_samples_leaf}\n",
    "]\n",
    "\n",
    "grid_search = RandomizedSearchCV(tree_reg,\n",
    "                                 param_grid,\n",
    "                                 cv=5, \n",
    "                                 scoring='neg_mean_squared_error',\n",
    "                                 return_train_score=True,\n",
    "                                 random_state = 52,\n",
    "                                 n_iter = 30)"
   ]
  },
  {
   "cell_type": "code",
   "execution_count": 37,
   "id": "521e254b",
   "metadata": {},
   "outputs": [
    {
     "data": {
      "text/plain": [
       "RandomizedSearchCV(cv=5, estimator=DecisionTreeRegressor(random_state=50),\n",
       "                   n_iter=30,\n",
       "                   param_distributions=[{'max_depth': [15, 16, 17, 18, 19, 20,\n",
       "                                                       21, 22, 23, 24],\n",
       "                                         'max_features': ['auto', 'sqrt'],\n",
       "                                         'min_samples_leaf': [15, 16, 17, 18,\n",
       "                                                              19, 20, 21, 22,\n",
       "                                                              23, 24, 25, 26,\n",
       "                                                              27, 28, 29],\n",
       "                                         'min_samples_split': [25, 26, 27, 28,\n",
       "                                                               29, 30, 31, 32,\n",
       "                                                               33, 34]}],\n",
       "                   random_state=52, return_train_score=True,\n",
       "                   scoring='neg_mean_squared_error')"
      ]
     },
     "execution_count": 37,
     "metadata": {},
     "output_type": "execute_result"
    }
   ],
   "source": [
    "#search over the grid of parameters to find the optimal set of hyperparameters for the training dataset\n",
    "grid_search.fit(df, quality)"
   ]
  },
  {
   "cell_type": "code",
   "execution_count": 38,
   "id": "709338c3",
   "metadata": {},
   "outputs": [
    {
     "data": {
      "text/plain": [
       "DecisionTreeRegressor(max_depth=24, max_features='auto', min_samples_leaf=27,\n",
       "                      min_samples_split=32, random_state=50)"
      ]
     },
     "execution_count": 38,
     "metadata": {},
     "output_type": "execute_result"
    }
   ],
   "source": [
    "#create a decision tree regressor with the optimal hyperparameters\n",
    "decision_tree_model = grid_search.best_estimator_\n",
    "decision_tree_model"
   ]
  },
  {
   "cell_type": "code",
   "execution_count": 39,
   "id": "5dc82c7e",
   "metadata": {},
   "outputs": [],
   "source": [
    "#predict quality values for the training and testing datasets\n",
    "y_train_pred = decision_tree_model.predict(df)\n",
    "y_test_pred = decision_tree_model.predict(X_test)"
   ]
  },
  {
   "cell_type": "code",
   "execution_count": 40,
   "id": "153f6a15",
   "metadata": {},
   "outputs": [
    {
     "name": "stdout",
     "output_type": "stream",
     "text": [
      "R^2 for Training Dataset:\n",
      "0.4707\n",
      "R^2 for Testing Dataset:\n",
      "0.3066\n"
     ]
    }
   ],
   "source": [
    "print(\"R^2 for Training Dataset:\")\n",
    "#calculate the R-squared value\n",
    "print(round(r2_score(quality, y_train_pred), 4))\n",
    "\n",
    "decision_tree_R2_2 = round(r2_score(y_test, y_test_pred), 4)\n",
    "print(\"R^2 for Testing Dataset:\")\n",
    "#calculate the R-squared value\n",
    "print(decision_tree_R2_2)"
   ]
  },
  {
   "cell_type": "code",
   "execution_count": 41,
   "id": "9b67a2ad",
   "metadata": {},
   "outputs": [
    {
     "name": "stdout",
     "output_type": "stream",
     "text": [
      "MAPE for Training Dataset:\n",
      "8.75 %\n",
      "MAPE for Testing Dataset:\n",
      "9.65 %\n"
     ]
    }
   ],
   "source": [
    "print(\"MAPE for Training Dataset:\")\n",
    "#calculate the MAPE for training data\n",
    "print(100 * round(mean_absolute_percentage_error(quality, y_train_pred), 4),\"%\")\n",
    "\n",
    "decision_tree_MAPE_2 = 100 * round(mean_absolute_percentage_error(y_test, y_test_pred), 4)\n",
    "print(\"MAPE for Testing Dataset:\")\n",
    "#calculate the MAPE for testing data\n",
    "print(decision_tree_MAPE_2, \"%\")"
   ]
  },
  {
   "cell_type": "markdown",
   "id": "7d1a95ca",
   "metadata": {},
   "source": [
    "Compared to the previous decision tree regression, we have greatly reduced the overfitting by changing the hyperparameters in the grid search without compromising wine quality prediction accuracy in the testing dataset. "
   ]
  },
  {
   "cell_type": "markdown",
   "id": "4573be98",
   "metadata": {},
   "source": [
    "# Random Forest Regression"
   ]
  },
  {
   "cell_type": "markdown",
   "id": "4e42dbc9",
   "metadata": {},
   "source": [
    "In random forest regression, a large number of decision trees are trained on random subsets of the training data. At each node in each tree, a random subset of the features is selected, and the best split is found using only those features. The final prediction is then made by averaging the predictions of all of the individual trees.\n",
    "\n",
    "Random forest regression is more accurate than decision tree regression and it reduces overfitting and improves generalization."
   ]
  },
  {
   "cell_type": "code",
   "execution_count": 42,
   "id": "cc950b9c",
   "metadata": {},
   "outputs": [],
   "source": [
    "from sklearn.ensemble import RandomForestRegressor\n",
    "\n",
    "#create a random forest regressor\n",
    "forest_reg = RandomForestRegressor(random_state=50)"
   ]
  },
  {
   "cell_type": "code",
   "execution_count": 43,
   "id": "04046eb3",
   "metadata": {},
   "outputs": [
    {
     "data": {
      "text/plain": [
       "array([5, 5, 6, ..., 5, 6, 6], dtype=int64)"
      ]
     },
     "execution_count": 43,
     "metadata": {},
     "output_type": "execute_result"
    }
   ],
   "source": [
    "#change the quality values to an array\n",
    "quality = quality.values.ravel()\n",
    "quality"
   ]
  },
  {
   "cell_type": "code",
   "execution_count": 44,
   "id": "cf45a280",
   "metadata": {},
   "outputs": [],
   "source": [
    "# Number of trees in random forest\n",
    "n_estimators = list(range(200, 400))\n",
    "\n",
    "# Number of features to consider at every split\n",
    "max_features = ['auto', 'sqrt']\n",
    "\n",
    "# Maximum number of levels in tree\n",
    "max_depth = list(range(15, 25))\n",
    "\n",
    "# Minimum number of samples required to split a node\n",
    "min_samples_split = list(range(25, 35))\n",
    "\n",
    "# Minimum number of samples required at each leaf node\n",
    "min_samples_leaf = list(range(15, 30))\n",
    "\n",
    "# Method of selecting samples for training each tree\n",
    "bootstrap = [True, False]\n",
    "\n",
    "# Create the param grid\n",
    "param_grid = [\n",
    "    {'n_estimators': n_estimators,\n",
    "     'max_features': max_features,\n",
    "     'max_depth': max_depth,\n",
    "     'min_samples_split': min_samples_split,\n",
    "     'min_samples_leaf': min_samples_leaf,\n",
    "     'bootstrap': bootstrap\n",
    "    }\n",
    "]"
   ]
  },
  {
   "cell_type": "code",
   "execution_count": 45,
   "id": "217832aa",
   "metadata": {},
   "outputs": [
    {
     "data": {
      "text/plain": [
       "RandomizedSearchCV(cv=5, estimator=RandomForestRegressor(random_state=50),\n",
       "                   param_distributions=[{'bootstrap': [True, False],\n",
       "                                         'max_depth': [15, 16, 17, 18, 19, 20,\n",
       "                                                       21, 22, 23, 24],\n",
       "                                         'max_features': ['auto', 'sqrt'],\n",
       "                                         'min_samples_leaf': [15, 16, 17, 18,\n",
       "                                                              19, 20, 21, 22,\n",
       "                                                              23, 24, 25, 26,\n",
       "                                                              27, 28, 29],\n",
       "                                         'min_samples_split': [25, 26, 27, 28,\n",
       "                                                               29, 30, 31, 32,\n",
       "                                                               33, 34],\n",
       "                                         'n_estimators': [200, 201, 202, 203,\n",
       "                                                          204, 205, 206, 207,\n",
       "                                                          208, 209, 210, 211,\n",
       "                                                          212, 213, 214, 215,\n",
       "                                                          216, 217, 218, 219,\n",
       "                                                          220, 221, 222, 223,\n",
       "                                                          224, 225, 226, 227,\n",
       "                                                          228, 229, ...]}],\n",
       "                   random_state=63, return_train_score=True,\n",
       "                   scoring='neg_mean_squared_error')"
      ]
     },
     "execution_count": 45,
     "metadata": {},
     "output_type": "execute_result"
    }
   ],
   "source": [
    "grid_search = RandomizedSearchCV(forest_reg, \n",
    "                                 param_grid, \n",
    "                                 cv=5, \n",
    "                                 scoring = 'neg_mean_squared_error',\n",
    "                                 return_train_score=True,\n",
    "                                 n_iter = 10,\n",
    "                                 random_state = 63)\n",
    "\n",
    "#search over the grid of parameters to find the optimal set of hyperparameters for the training dataset\n",
    "grid_search.fit(df, quality)"
   ]
  },
  {
   "cell_type": "code",
   "execution_count": 46,
   "id": "42f2c697",
   "metadata": {},
   "outputs": [
    {
     "data": {
      "text/plain": [
       "RandomForestRegressor(bootstrap=False, max_depth=24, max_features='sqrt',\n",
       "                      min_samples_leaf=21, min_samples_split=25,\n",
       "                      n_estimators=234, random_state=50)"
      ]
     },
     "execution_count": 46,
     "metadata": {},
     "output_type": "execute_result"
    }
   ],
   "source": [
    "#create a random tree regressor with the optimal hyperparameters\n",
    "random_forest_model = grid_search.best_estimator_\n",
    "random_forest_model"
   ]
  },
  {
   "cell_type": "code",
   "execution_count": 47,
   "id": "47cbad55",
   "metadata": {},
   "outputs": [],
   "source": [
    "#predict quality values for the training and testing datasets\n",
    "y_train_pred = random_forest_model.predict(df)\n",
    "y_test_pred = random_forest_model.predict(X_test)"
   ]
  },
  {
   "cell_type": "code",
   "execution_count": 48,
   "id": "5cecd636",
   "metadata": {
    "scrolled": true
   },
   "outputs": [
    {
     "name": "stdout",
     "output_type": "stream",
     "text": [
      "R^2 for Training Dataset:\n",
      "0.5561\n",
      "R^2 for Testing Dataset:\n",
      "0.4168\n"
     ]
    }
   ],
   "source": [
    "print(\"R^2 for Training Dataset:\")\n",
    "#calculate the R-squared value\n",
    "print(round(r2_score(quality, y_train_pred), 4))\n",
    "\n",
    "random_forest_R2 = round(r2_score(y_test, y_test_pred), 4)\n",
    "print(\"R^2 for Testing Dataset:\")\n",
    "#calculate the R-squared value\n",
    "print(random_forest_R2)"
   ]
  },
  {
   "cell_type": "markdown",
   "id": "11b600a9",
   "metadata": {},
   "source": [
    "The R-squared value for the testing dataset is much higher in the random forest regression compared to the R-squared of the decision tree regression. Also, the R-squared value for the training set is not significantly higher than the testing R-squared, so we have not have too much overfitting."
   ]
  },
  {
   "cell_type": "code",
   "execution_count": 49,
   "id": "55d06e0c",
   "metadata": {
    "scrolled": true
   },
   "outputs": [
    {
     "name": "stdout",
     "output_type": "stream",
     "text": [
      "MAPE for Training Dataset:\n",
      "8.07 %\n",
      "MAPE for Testing Dataset:\n",
      "8.870000000000001 %\n"
     ]
    }
   ],
   "source": [
    "print(\"MAPE for Training Dataset:\")\n",
    "#calculate the MAPE for training data\n",
    "print(100 * round(mean_absolute_percentage_error(quality, y_train_pred), 4),\"%\")\n",
    "\n",
    "random_forest_MAPE = 100 * round(mean_absolute_percentage_error(y_test, y_test_pred), 4)\n",
    "print(\"MAPE for Testing Dataset:\")\n",
    "#calculate the MAPE for testing data\n",
    "print(random_forest_MAPE, \"%\")"
   ]
  },
  {
   "cell_type": "markdown",
   "id": "20a96943",
   "metadata": {},
   "source": [
    "The MAPE for the testing dataset for the random forest regression decreased greatly compared to the decision tree regression. This shows that we have successfully implemented a random forest regression with high prediction accuracy."
   ]
  },
  {
   "cell_type": "markdown",
   "id": "e5f21393",
   "metadata": {},
   "source": [
    "## Random Forest Regression Using the Scaled Data"
   ]
  },
  {
   "cell_type": "code",
   "execution_count": 50,
   "id": "faecede3",
   "metadata": {},
   "outputs": [],
   "source": [
    "#change the quality values to an array\n",
    "quality_scaled = quality_scaled.ravel()"
   ]
  },
  {
   "cell_type": "code",
   "execution_count": 51,
   "id": "34c2c166",
   "metadata": {},
   "outputs": [
    {
     "data": {
      "text/plain": [
       "RandomizedSearchCV(cv=5, estimator=RandomForestRegressor(random_state=50),\n",
       "                   param_distributions=[{'bootstrap': [True, False],\n",
       "                                         'max_depth': [15, 16, 17, 18, 19, 20,\n",
       "                                                       21, 22, 23, 24],\n",
       "                                         'max_features': ['auto', 'sqrt'],\n",
       "                                         'min_samples_leaf': [15, 16, 17, 18,\n",
       "                                                              19, 20, 21, 22,\n",
       "                                                              23, 24, 25, 26,\n",
       "                                                              27, 28, 29],\n",
       "                                         'min_samples_split': [25, 26, 27, 28,\n",
       "                                                               29, 30, 31, 32,\n",
       "                                                               33, 34],\n",
       "                                         'n_estimators': [200, 201, 202, 203,\n",
       "                                                          204, 205, 206, 207,\n",
       "                                                          208, 209, 210, 211,\n",
       "                                                          212, 213, 214, 215,\n",
       "                                                          216, 217, 218, 219,\n",
       "                                                          220, 221, 222, 223,\n",
       "                                                          224, 225, 226, 227,\n",
       "                                                          228, 229, ...]}],\n",
       "                   random_state=63, return_train_score=True,\n",
       "                   scoring='neg_mean_squared_error')"
      ]
     },
     "execution_count": 51,
     "metadata": {},
     "output_type": "execute_result"
    }
   ],
   "source": [
    "forest_reg = RandomForestRegressor(random_state=50)\n",
    "\n",
    "grid_search.fit(df_scaled, quality_scaled)"
   ]
  },
  {
   "cell_type": "code",
   "execution_count": 52,
   "id": "6aa02b29",
   "metadata": {},
   "outputs": [
    {
     "data": {
      "text/plain": [
       "RandomForestRegressor(bootstrap=False, max_depth=24, max_features='sqrt',\n",
       "                      min_samples_leaf=21, min_samples_split=25,\n",
       "                      n_estimators=234, random_state=50)"
      ]
     },
     "execution_count": 52,
     "metadata": {},
     "output_type": "execute_result"
    }
   ],
   "source": [
    "#create a random tree regressor with the optimal hyperparameters\n",
    "random_forest_model_scaled = grid_search.best_estimator_\n",
    "random_forest_model_scaled"
   ]
  },
  {
   "cell_type": "code",
   "execution_count": 53,
   "id": "662108c7",
   "metadata": {},
   "outputs": [],
   "source": [
    "#predict scaled quality values for the training and testing datasets\n",
    "y_train_pred = random_forest_model_scaled.predict(df_scaled)\n",
    "y_test_pred = random_forest_model_scaled.predict(X_test_scaled)"
   ]
  },
  {
   "cell_type": "code",
   "execution_count": 54,
   "id": "af9f1fe1",
   "metadata": {},
   "outputs": [
    {
     "name": "stdout",
     "output_type": "stream",
     "text": [
      "R^2 for Scaled Training Dataset:\n",
      "0.556\n",
      "R^2 for Scaled Testing Dataset:\n",
      "0.4051\n"
     ]
    }
   ],
   "source": [
    "print(\"R^2 for Scaled Training Dataset:\")\n",
    "#calculate the R-squared value\n",
    "print(round(r2_score(quality_scaled, y_train_pred), 4))\n",
    "\n",
    "random_forest_scaled_R2 = round(r2_score(y_test_scaled, y_test_pred), 4)\n",
    "print(\"R^2 for Scaled Testing Dataset:\")\n",
    "#calculate the R-squared value\n",
    "print(random_forest_scaled_R2)"
   ]
  },
  {
   "cell_type": "markdown",
   "id": "c7401656",
   "metadata": {},
   "source": [
    "## Comparison of Metrics for All Models"
   ]
  },
  {
   "cell_type": "code",
   "execution_count": 55,
   "id": "6d0a1bda",
   "metadata": {},
   "outputs": [],
   "source": [
    "R2_scores = [lin_reg_R2, \n",
    "            decision_tree_R2_1,\n",
    "            decision_tree_R2_2,\n",
    "            random_forest_R2,\n",
    "            random_forest_scaled_R2]\n",
    "\n",
    "MAPE_scores = [lin_reg_MAPE,\n",
    "              decision_tree_MAPE_1,\n",
    "              decision_tree_MAPE_2, \n",
    "              random_forest_MAPE]"
   ]
  },
  {
   "cell_type": "code",
   "execution_count": 56,
   "id": "f33afee5",
   "metadata": {},
   "outputs": [
    {
     "data": {
      "image/png": "[encoded data removed]",
      "text/plain": [
       "<Figure size 432x288 with 1 Axes>"
      ]
     },
     "metadata": {
      "needs_background": "light"
     },
     "output_type": "display_data"
    }
   ],
   "source": [
    "plt.bar(range(len(R2_scores)), R2_scores)\n",
    "plt.xticks(range(len(R2_scores)), \n",
    "           [\"Linear Regression\",\n",
    "            \"First Decision Tree Regression\",\n",
    "            \"Second Decision Tree Regression\",\n",
    "            \"Random Forest Regression\",\n",
    "            \"Random Forest Regression Scaled\"\n",
    "           ],\n",
    "          rotation = 30)\n",
    "plt.ylabel(\"R-Squared Value\")\n",
    "plt.title(\"Comparison of R-Squared Values\")\n",
    "plt.show()"
   ]
  },
  {
   "cell_type": "markdown",
   "id": "ceae4172",
   "metadata": {},
   "source": [
    "In terms of R-squared values, the Random Forest Regression is the best model for predicting wine qualities."
   ]
  },
  {
   "cell_type": "code",
   "execution_count": 57,
   "id": "4e7a8092",
   "metadata": {},
   "outputs": [
    {
     "data": {
      "image/png": "[encoded data removed]",
      "text/plain": [
       "<Figure size 432x288 with 1 Axes>"
      ]
     },
     "metadata": {
      "needs_background": "light"
     },
     "output_type": "display_data"
    }
   ],
   "source": [
    "plt.bar(range(len(MAPE_scores)), MAPE_scores)\n",
    "plt.xticks(range(len(MAPE_scores)), \n",
    "           [\"Linear Regression\",\n",
    "            \"First Decision Tree Regression\",\n",
    "            \"Second Decision Tree Regression\",\n",
    "            \"Random Forest Regression\"],\n",
    "          rotation = 30)\n",
    "plt.ylabel(\"Mean Absolute Percentage Error\")\n",
    "plt.title(\"Comparison of MAPE Values\")\n",
    "plt.show()"
   ]
  },
  {
   "cell_type": "markdown",
   "id": "a6702227",
   "metadata": {},
   "source": [
    "In terms of Mean Absolute Percentage Error values, the Random Forest Regression is the best model for predicting wine qualities."
   ]
  },
  {
   "cell_type": "markdown",
   "id": "aee0f2ee",
   "metadata": {},
   "source": [
    "## Feature Importance from Random Forest Regression"
   ]
  },
  {
   "cell_type": "code",
   "execution_count": 58,
   "id": "0185ab84",
   "metadata": {
    "scrolled": true
   },
   "outputs": [
    {
     "data": {
      "text/plain": [
       "alcohol                 0.291349\n",
       "volatile acidity        0.140509\n",
       "density                 0.131941\n",
       "chlorides               0.073050\n",
       "free sulfur dioxide     0.067599\n",
       "citric acid             0.063941\n",
       "sulphates               0.055598\n",
       "residual sugar          0.051909\n",
       "total sulfur dioxide    0.050992\n",
       "pH                      0.038828\n",
       "fixed acidity           0.028921\n",
       "white                   0.005362\n",
       "dtype: float64"
      ]
     },
     "execution_count": 58,
     "metadata": {},
     "output_type": "execute_result"
    }
   ],
   "source": [
    "importances = pd.Series(random_forest_model.feature_importances_,\n",
    "                        index = df.columns).sort_values(ascending = False)\n",
    "importances"
   ]
  },
  {
   "cell_type": "markdown",
   "id": "b48ae402",
   "metadata": {},
   "source": [
    "Feature importance is a measure of how much each feature contributes to the prediction of the quality of the wine. We can see than alcohol is by far the feature that is used at a tree's node. Volatile acidity and density also have a relatively high feature importance score."
   ]
  },
  {
   "cell_type": "code",
   "execution_count": 59,
   "id": "c3a4cecc",
   "metadata": {},
   "outputs": [
    {
     "data": {
      "image/png": "[encoded data removed]",
      "text/plain": [
       "<Figure size 432x288 with 1 Axes>"
      ]
     },
     "metadata": {
      "needs_background": "light"
     },
     "output_type": "display_data"
    }
   ],
   "source": [
    "import seaborn as sns\n",
    "sns.barplot(x=importances, y=importances.index)\n",
    "\n",
    "plt.xlabel('Feature Importance Score')\n",
    "plt.ylabel('Features')\n",
    "plt.title(\"Visualizing Important Features\")\n",
    "plt.show()"
   ]
  },
  {
   "cell_type": "markdown",
   "id": "29e40121",
   "metadata": {},
   "source": [
    "In the figure above, we can see that by far, alcohol is the most important feature of the wines in terms of making accurate predictions for the quality of wines. Also, volatile acidity and density of the wine are important features. This information demonstrates the most important features of wine to focus on to create the highest quality wines."
   ]
  }
 ],
 "metadata": {
  "kernelspec": {
   "display_name": "Python 3",
   "language": "python",
   "name": "python3"
  },
  "language_info": {
   "codemirror_mode": {
    "name": "ipython",
    "version": 3
   },
   "file_extension": ".py",
   "mimetype": "text/x-python",
   "name": "python",
   "nbconvert_exporter": "python",
   "pygments_lexer": "ipython3",
   "version": "3.8.8"
  }
 },
 "nbformat": 4,
 "nbformat_minor": 5
}
